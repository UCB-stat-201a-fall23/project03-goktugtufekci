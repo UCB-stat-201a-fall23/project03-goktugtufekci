{
 "cells": [
  {
   "cell_type": "markdown",
   "id": "261b15f5-7e24-45b3-98b7-3a02e5083fe2",
   "metadata": {},
   "source": [
    "# 1. Simulation of Markov Process"
   ]
  },
  {
   "cell_type": "code",
   "execution_count": 1,
   "id": "12d47bf5-613a-47d7-be7c-326fabb4bbe2",
   "metadata": {},
   "outputs": [],
   "source": [
    "import numpy as np"
   ]
  },
  {
   "cell_type": "markdown",
   "id": "2bab581b-5e41-4555-84f1-5431537c77ce",
   "metadata": {},
   "source": [
    "## a)"
   ]
  },
  {
   "cell_type": "markdown",
   "id": "e4f67fc8-40b7-4e6e-b351-d4bcfd1c00f0",
   "metadata": {},
   "source": [
    "## Step 1. Initialization."
   ]
  },
  {
   "cell_type": "code",
   "execution_count": 2,
   "id": "312f96a2-f898-4a2b-956c-2858483e7754",
   "metadata": {},
   "outputs": [
    {
     "name": "stdout",
     "output_type": "stream",
     "text": [
      "[1 0 0]\n"
     ]
    }
   ],
   "source": [
    "x = np.array([1, 0, 0])\n",
    "print(x)"
   ]
  },
  {
   "cell_type": "markdown",
   "id": "19014e98-6d14-4cc6-b5c4-9ff85f063100",
   "metadata": {},
   "source": [
    "## Step 2. Transition probabilities."
   ]
  },
  {
   "cell_type": "code",
   "execution_count": 3,
   "id": "fa5fb0ac-7aa3-4de7-856d-dcc5ce145e27",
   "metadata": {},
   "outputs": [
    {
     "name": "stdout",
     "output_type": "stream",
     "text": [
      "[[0.2 0.7 0.1]\n",
      " [0.2 0.5 0.3]\n",
      " [0.2 0.4 0.4]]\n"
     ]
    }
   ],
   "source": [
    "P = np.array([\n",
    "    [0.2, 0.7, 0.1],\n",
    "    [0.2, 0.5, 0.3],\n",
    "    [0.2, 0.4, 0.4]\n",
    "])\n",
    "print(P)"
   ]
  },
  {
   "cell_type": "markdown",
   "id": "cf606c9b-31f3-430d-8f4f-c1be0bf55446",
   "metadata": {},
   "source": [
    "# b)"
   ]
  },
  {
   "cell_type": "markdown",
   "id": "badb168e-9525-4ec9-bee6-8ce0cf7e2f01",
   "metadata": {},
   "source": [
    "## Step 3. Simulation of one single realization."
   ]
  },
  {
   "cell_type": "code",
   "execution_count": 4,
   "id": "cdde86f3-234b-4f5b-9af9-d8a44fc70a24",
   "metadata": {},
   "outputs": [
    {
     "name": "stdout",
     "output_type": "stream",
     "text": [
      "[0.2 0.7 0.1]\n"
     ]
    }
   ],
   "source": [
    "x_new = np.dot(x,P)\n",
    "print(x_new)\n",
    "x = x_new"
   ]
  },
  {
   "cell_type": "markdown",
   "id": "feaaad4d-cdee-40a8-9e75-83acfea2cc00",
   "metadata": {},
   "source": [
    "## 4. Random choice of the state based on the single realization"
   ]
  },
  {
   "cell_type": "code",
   "execution_count": 5,
   "id": "046b902c-ad47-49c5-a7d9-b38da577102b",
   "metadata": {},
   "outputs": [
    {
     "name": "stdout",
     "output_type": "stream",
     "text": [
      "2\n"
     ]
    }
   ],
   "source": [
    "next_state = np.random.choice([1, 2, 3],p = x)\n",
    "print(next_state)"
   ]
  },
  {
   "cell_type": "markdown",
   "id": "02c6d886-0824-4ec8-8440-0c37e8b16439",
   "metadata": {},
   "source": [
    "# 2. Stationary Distribution."
   ]
  },
  {
   "cell_type": "markdown",
   "id": "927c55d3-90d8-4d78-8b56-4e483a3da77f",
   "metadata": {},
   "source": [
    "## a)"
   ]
  },
  {
   "cell_type": "code",
   "execution_count": 6,
   "id": "674cff50-0b28-46f7-9862-99cc288ceae9",
   "metadata": {},
   "outputs": [
    {
     "name": "stdout",
     "output_type": "stream",
     "text": [
      "[[0.2 0.2 0.2]\n",
      " [0.7 0.5 0.4]\n",
      " [0.1 0.3 0.4]]\n"
     ]
    }
   ],
   "source": [
    "P_T = P.T\n",
    "print(P_T)"
   ]
  },
  {
   "cell_type": "code",
   "execution_count": 7,
   "id": "7b21c1b5-1625-424e-abb4-d4ed47d806dc",
   "metadata": {},
   "outputs": [
    {
     "name": "stdout",
     "output_type": "stream",
     "text": [
      "[0.2        0.51111111 0.28888889]\n"
     ]
    }
   ],
   "source": [
    "from scipy.linalg import eig\n",
    "\n",
    "eigenvalues, eigenvectors = np.linalg.eig(P_T)\n",
    "stationary_vector = np.array(eigenvectors[:, np.isclose(eigenvalues, 1)]).flatten().real\n",
    "stationary_vector /= stationary_vector.sum()\n",
    "\n",
    "print(stationary_vector)"
   ]
  },
  {
   "cell_type": "markdown",
   "id": "3dcec4c3-a994-434d-b18e-c2245a9dbd57",
   "metadata": {},
   "source": [
    "## b)"
   ]
  },
  {
   "cell_type": "code",
   "execution_count": 8,
   "id": "eb4fd09d-9de2-4f94-968a-475f34f7d386",
   "metadata": {},
   "outputs": [
    {
     "name": "stdout",
     "output_type": "stream",
     "text": [
      "stationary distribution, π∞,= [0.2        0.51111111 0.28888889]\n"
     ]
    },
    {
     "data": {
      "image/png": "[encoded data removed]",
      "text/plain": [
       "<Figure size 640x480 with 1 Axes>"
      ]
     },
     "metadata": {},
     "output_type": "display_data"
    },
    {
     "data": {
      "text/html": [
       "<div>\n",
       "<style scoped>\n",
       "    .dataframe tbody tr th:only-of-type {\n",
       "        vertical-align: middle;\n",
       "    }\n",
       "\n",
       "    .dataframe tbody tr th {\n",
       "        vertical-align: top;\n",
       "    }\n",
       "\n",
       "    .dataframe thead th {\n",
       "        text-align: right;\n",
       "    }\n",
       "</style>\n",
       "<table border=\"1\" class=\"dataframe\">\n",
       "  <thead>\n",
       "    <tr style=\"text-align: right;\">\n",
       "      <th></th>\n",
       "      <th>State 1</th>\n",
       "      <th>State 2</th>\n",
       "      <th>State 3</th>\n",
       "    </tr>\n",
       "  </thead>\n",
       "  <tbody>\n",
       "    <tr>\n",
       "      <th>0</th>\n",
       "      <td>0.0</td>\n",
       "      <td>0.000000</td>\n",
       "      <td>1.000000</td>\n",
       "    </tr>\n",
       "    <tr>\n",
       "      <th>1</th>\n",
       "      <td>0.2</td>\n",
       "      <td>0.400000</td>\n",
       "      <td>0.400000</td>\n",
       "    </tr>\n",
       "    <tr>\n",
       "      <th>2</th>\n",
       "      <td>0.2</td>\n",
       "      <td>0.500000</td>\n",
       "      <td>0.300000</td>\n",
       "    </tr>\n",
       "    <tr>\n",
       "      <th>3</th>\n",
       "      <td>0.2</td>\n",
       "      <td>0.510000</td>\n",
       "      <td>0.290000</td>\n",
       "    </tr>\n",
       "    <tr>\n",
       "      <th>4</th>\n",
       "      <td>0.2</td>\n",
       "      <td>0.511000</td>\n",
       "      <td>0.289000</td>\n",
       "    </tr>\n",
       "    <tr>\n",
       "      <th>...</th>\n",
       "      <td>...</td>\n",
       "      <td>...</td>\n",
       "      <td>...</td>\n",
       "    </tr>\n",
       "    <tr>\n",
       "      <th>996</th>\n",
       "      <td>0.2</td>\n",
       "      <td>0.511111</td>\n",
       "      <td>0.288889</td>\n",
       "    </tr>\n",
       "    <tr>\n",
       "      <th>997</th>\n",
       "      <td>0.2</td>\n",
       "      <td>0.511111</td>\n",
       "      <td>0.288889</td>\n",
       "    </tr>\n",
       "    <tr>\n",
       "      <th>998</th>\n",
       "      <td>0.2</td>\n",
       "      <td>0.511111</td>\n",
       "      <td>0.288889</td>\n",
       "    </tr>\n",
       "    <tr>\n",
       "      <th>999</th>\n",
       "      <td>0.2</td>\n",
       "      <td>0.511111</td>\n",
       "      <td>0.288889</td>\n",
       "    </tr>\n",
       "    <tr>\n",
       "      <th>1000</th>\n",
       "      <td>0.2</td>\n",
       "      <td>0.511111</td>\n",
       "      <td>0.288889</td>\n",
       "    </tr>\n",
       "  </tbody>\n",
       "</table>\n",
       "<p>1001 rows × 3 columns</p>\n",
       "</div>"
      ],
      "text/plain": [
       "      State 1   State 2   State 3\n",
       "0         0.0  0.000000  1.000000\n",
       "1         0.2  0.400000  0.400000\n",
       "2         0.2  0.500000  0.300000\n",
       "3         0.2  0.510000  0.290000\n",
       "4         0.2  0.511000  0.289000\n",
       "...       ...       ...       ...\n",
       "996       0.2  0.511111  0.288889\n",
       "997       0.2  0.511111  0.288889\n",
       "998       0.2  0.511111  0.288889\n",
       "999       0.2  0.511111  0.288889\n",
       "1000      0.2  0.511111  0.288889\n",
       "\n",
       "[1001 rows x 3 columns]"
      ]
     },
     "metadata": {},
     "output_type": "display_data"
    }
   ],
   "source": [
    "import matplotlib.pyplot as plt\n",
    "import pandas as pd\n",
    "\n",
    "def find_stationary_distribution(transition_matrix):\n",
    "    eigenvalues, eigenvectors = np.linalg.eig(transition_matrix.T)\n",
    "    stationary_vector = np.array(eigenvectors[:, np.isclose(eigenvalues, 1)]).flatten().real\n",
    "    stationary_vector /= stationary_vector.sum()\n",
    "    return stationary_vector\n",
    "\n",
    "\n",
    "pi_infinity = find_stationary_distribution(P)\n",
    "print('stationary distribution, \\u03C0\\u221E,=',pi_infinity)\n",
    "\n",
    "\n",
    "def simulate_convergence(transition_matrix, initial_distribution, steps):\n",
    "    pi_t = initial_distribution\n",
    "    convergence = [pi_t]\n",
    "    for _ in range(steps):\n",
    "        pi_t = pi_t.dot(transition_matrix)\n",
    "        convergence.append(pi_t)\n",
    "    return convergence\n",
    "\n",
    "initial_distributions = [np.array([1, 0, 0]), np.array([0, 1, 0]), np.array([0, 0, 1])]\n",
    "steps = 1000\n",
    "\n",
    "for pi_0 in initial_distributions:\n",
    "    convergence = simulate_convergence(P, pi_0, steps)\n",
    "    distance_to_stationary = [np.linalg.norm(pi_t - pi_infinity, 2)**2 for pi_t in convergence]\n",
    "    plt.plot(distance_to_stationary, label=f'Initial distribution: {pi_0}')\n",
    "\n",
    "plt.xlabel('Time steps')\n",
    "plt.ylabel(r'$||\\pi_i - \\pi_{\\infty}||^2_2$')\n",
    "plt.title('Convergence to Stationary Distribution')\n",
    "plt.legend()\n",
    "plt.savefig(\"my_plot.png\")\n",
    "plt.show()\n",
    "\n",
    "\n",
    "df = pd.DataFrame(convergence)\n",
    "# New column names\n",
    "new_column_names = ['State 1', 'State 2', 'State 3']\n",
    "\n",
    "# Assigning new column names to the DataFrame\n",
    "df.columns = new_column_names\n",
    "pd.set_option('display.max_rows', 10)\n",
    "# Display the DataFrame\n",
    "display(df)\n"
   ]
  },
  {
   "cell_type": "markdown",
   "id": "a5c5e69f-cb1f-47e3-b461-f5537332d35f",
   "metadata": {},
   "source": [
    "# 3. Absorbing state."
   ]
  },
  {
   "cell_type": "markdown",
   "id": "93874641-edf5-4a22-bcfb-043bcd761cc6",
   "metadata": {},
   "source": [
    "## a)"
   ]
  },
  {
   "cell_type": "code",
   "execution_count": 12,
   "id": "6005bc52-e521-46bb-98d6-09d370a3732a",
   "metadata": {},
   "outputs": [
    {
     "data": {
      "image/png": "[encoded data removed]",
      "text/plain": [
       "<Figure size 1200x600 with 2 Axes>"
      ]
     },
     "metadata": {},
     "output_type": "display_data"
    },
    {
     "data": {
      "text/plain": [
       "(4.5897, 3.8819)"
      ]
     },
     "execution_count": 12,
     "metadata": {},
     "output_type": "execute_result"
    }
   ],
   "source": [
    "def simulate_markov_chain(P, start_state):\n",
    "    current_state = start_state\n",
    "    time_to_absorb = 0\n",
    "    \n",
    "    while current_state != 2: # Assuming state 3 is absorbing\n",
    "        time_to_absorb += 1\n",
    "        current_state = np.random.choice([0, 1, 2], p=P[current_state])\n",
    "    return time_to_absorb\n",
    "\n",
    "def multiple_simulations(P, start_state, num_simulations):\n",
    "    times_to_absorb = [simulate_markov_chain(P, start_state) for _ in range(num_simulations)]\n",
    "    return times_to_absorb\n",
    "\n",
    "num_simulations = 10000\n",
    "\n",
    "# Simulations starting from state 0 (X_0 = 1)\n",
    "times_from_1 = multiple_simulations(P, 0, num_simulations)\n",
    "\n",
    "# Simulations starting from state 1 (X_0 = 2)\n",
    "times_from_2 = multiple_simulations(P, 1, num_simulations)\n",
    "\n",
    "# Means\n",
    "mean_time_from_1 = np.mean(times_from_1)\n",
    "mean_time_from_2 = np.mean(times_from_2)\n",
    "\n",
    "\n",
    "plt.figure(figsize=(12, 6))\n",
    "# Histogram for times starting from state 0\n",
    "plt.subplot(1, 2, 1)\n",
    "plt.hist(times_from_1, bins=30, color='black', alpha=0.7)\n",
    "plt.title('Starting from $X_0 = 1$')\n",
    "plt.xlabel('Time to Absorb')\n",
    "plt.ylabel('Frequency')\n",
    "\n",
    "# Histogram for times starting from state 1\n",
    "plt.subplot(1, 2, 2)\n",
    "plt.hist(times_from_2, bins=30, color='red', alpha=0.7)\n",
    "plt.title('Starting from $X_0 = 2$')\n",
    "plt.xlabel('Time')\n",
    "plt.ylabel('Frequency')\n",
    "\n",
    "plt.tight_layout()\n",
    "plt.savefig(\"histogram\")\n",
    "plt.show()\n",
    "\n",
    "(mean_time_from_1, mean_time_from_2)\n"
   ]
  },
  {
   "cell_type": "markdown",
   "id": "eeefe6a9-06ab-4318-90e2-6985fdcd77da",
   "metadata": {},
   "source": [
    "## b) Theoretical solution."
   ]
  },
  {
   "cell_type": "code",
   "execution_count": 10,
   "id": "048badb5-6df7-4bad-a2f0-e36b553ab84a",
   "metadata": {},
   "outputs": [
    {
     "data": {
      "text/plain": [
       "array([4.61538462, 3.84615385])"
      ]
     },
     "execution_count": 10,
     "metadata": {},
     "output_type": "execute_result"
    }
   ],
   "source": [
    "from scipy.linalg import solve\n",
    "\n",
    "A = np.array([[1 - P[0, 0], -P[0, 1]],\n",
    "              [-P[1, 0], 1 - P[1, 1]]])\n",
    "\n",
    "b = np.array([1, 1])\n",
    "\n",
    "theoretical_mean_times = solve(A, b)\n",
    "\n",
    "theoretical_mean_times\n"
   ]
  },
  {
   "cell_type": "code",
   "execution_count": null,
   "id": "a45d6478-53b0-460a-868f-5f79c9795ff1",
   "metadata": {},
   "outputs": [],
   "source": []
  }
 ],
 "metadata": {
  "kernelspec": {
   "display_name": "Python 3 (ipykernel)",
   "language": "python",
   "name": "python3"
  },
  "language_info": {
   "codemirror_mode": {
    "name": "ipython",
    "version": 3
   },
   "file_extension": ".py",
   "mimetype": "text/x-python",
   "name": "python",
   "nbconvert_exporter": "python",
   "pygments_lexer": "ipython3",
   "version": "3.11.5"
  }
 },
 "nbformat": 4,
 "nbformat_minor": 5
}
